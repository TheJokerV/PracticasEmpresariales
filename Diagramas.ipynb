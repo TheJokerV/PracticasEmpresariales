{
 "cells": [
  {
   "cell_type": "code",
   "execution_count": 1,
   "id": "50863992",
   "metadata": {},
   "outputs": [],
   "source": [
    "import pandas as pd\n",
    "import matplotlib.pyplot as plt\n",
    "import numpy as np\n",
    "from datetime import datetime"
   ]
  },
  {
   "cell_type": "code",
   "execution_count": 2,
   "id": "4ca7dc35",
   "metadata": {},
   "outputs": [],
   "source": [
    "base = pd.read_excel('base de datos objeto de estudio.xlsx')\n",
    "egresados = pd.read_excel('Infromación de egresados.xls')\n",
    "sistemasGeneral = base[base.NOMBREPROGRAMA == 'INGENIERÍA DE SISTEMAS']\n",
    "sistemasGraduados = pd.merge(base[(base.NOMBREPROGRAMA == 'INGENIERÍA DE SISTEMAS') & (base.GRADUADO == 'SÍ')], egresados, how='inner', left_on='CODIGOESTUDIANTIL', right_on='CODIGO')"
   ]
  },
  {
   "cell_type": "code",
   "execution_count": null,
   "id": "49436aa7",
   "metadata": {},
   "outputs": [],
   "source": []
  }
 ],
 "metadata": {
  "kernelspec": {
   "display_name": "Python 3 (ipykernel)",
   "language": "python",
   "name": "python3"
  },
  "language_info": {
   "codemirror_mode": {
    "name": "ipython",
    "version": 3
   },
   "file_extension": ".py",
   "mimetype": "text/x-python",
   "name": "python",
   "nbconvert_exporter": "python",
   "pygments_lexer": "ipython3",
   "version": "3.9.13"
  }
 },
 "nbformat": 4,
 "nbformat_minor": 5
}
