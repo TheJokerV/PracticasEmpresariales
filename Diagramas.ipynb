{
 "cells": [
  {
   "cell_type": "code",
   "execution_count": 3,
   "id": "50863992",
   "metadata": {},
   "outputs": [],
   "source": [
    "import pandas as pd\n",
    "import matplotlib.pyplot as plt\n",
    "import numpy as np\n",
    "from datetime import datetime"
   ]
  },
  {
   "cell_type": "code",
   "execution_count": 4,
   "id": "4ca7dc35",
   "metadata": {},
   "outputs": [],
   "source": [
    "base = pd.read_excel('base de datos objeto de estudio.xlsx')\n",
    "egresados = pd.read_excel('Infromación de egresados.xls')\n",
    "sistemasGeneral = base[base.NOMBREPROGRAMA == 'INGENIERÍA DE SISTEMAS']\n",
    "sistemasGraduados = pd.merge(base[(base.NOMBREPROGRAMA == 'INGENIERÍA DE SISTEMAS') & (base.GRADUADO == 'SÍ')], egresados, how='inner', left_on='CODIGOESTUDIANTIL', right_on='CODIGO')"
   ]
  },
  {
   "cell_type": "code",
   "execution_count": 5,
   "id": "49436aa7",
   "metadata": {},
   "outputs": [
    {
     "name": "stdout",
     "output_type": "stream",
     "text": [
      "<class 'pandas.core.frame.DataFrame'>\n",
      "RangeIndex: 8734 entries, 0 to 8733\n",
      "Data columns (total 65 columns):\n",
      " #   Column                          Non-Null Count  Dtype         \n",
      "---  ------                          --------------  -----         \n",
      " 0   AÑOINGRESO                      8734 non-null   int64         \n",
      " 1   PERIODOINGRESO                  8734 non-null   object        \n",
      " 2   DOCUMENTO                       8734 non-null   object        \n",
      " 3   CODIGOESTUDIANTIL               8734 non-null   int64         \n",
      " 4   NOMBREESTUDIANTE                8734 non-null   object        \n",
      " 5   NOMBREPROGRAMA                  8734 non-null   object        \n",
      " 6   NUM_MATRICULAS                  8734 non-null   int64         \n",
      " 7   ULTIMOPERIODOMATRICULADO        8734 non-null   object        \n",
      " 8   SALDO_FINANZAS                  8734 non-null   float64       \n",
      " 9   CR_PENSUM                       8734 non-null   int64         \n",
      " 10  CR_APROBADOS                    8734 non-null   int64         \n",
      " 11  CR_REPROBADOS                   8734 non-null   int64         \n",
      " 12  NIVEL_INGLES_CURSAR             8734 non-null   int64         \n",
      " 13  MAXIMO_NIVEL_INGLES_APROBADO    8734 non-null   int64         \n",
      " 14  MATERIAS_CANCELADAS             8734 non-null   int64         \n",
      " 15  USO_SALAS                       8734 non-null   int64         \n",
      " 16  PRESTAMOS_BIBLIOTECA            8734 non-null   int64         \n",
      " 17  RESERVAS_RESERVAS               8734 non-null   int64         \n",
      " 18  CARNET                          8734 non-null   int64         \n",
      " 19  FECHANACIMIENTO                 8724 non-null   datetime64[ns]\n",
      " 20  GRUPOSANGUINEO                  8734 non-null   object        \n",
      " 21  RH                              8734 non-null   object        \n",
      " 22  GÉNERO                          8734 non-null   object        \n",
      " 23  ESTADOCIVIL                     8734 non-null   object        \n",
      " 24  RELIGION                        8644 non-null   object        \n",
      " 25  PAIS                            8734 non-null   object        \n",
      " 26  DEPTOPROCEDENCIA                8734 non-null   object        \n",
      " 27  MUNICPROCEDENCIA                8734 non-null   object        \n",
      " 28  ESTRATO                         8637 non-null   object        \n",
      " 29  VULNERABLE                      8734 non-null   int64         \n",
      " 30  GRUPOETNICO                     8734 non-null   object        \n",
      " 31  VICTIMACONFLICTO                8734 non-null   int64         \n",
      " 32  POBLACIONNECESIDADESEDUCATIVAS  8734 non-null   int64         \n",
      " 33  DISCAPACIDAD                    8734 non-null   object        \n",
      " 34  CAPACIDADEXCEPCIONAL            8734 non-null   object        \n",
      " 35  PAISFRONTERA                    8734 non-null   object        \n",
      " 36  SISBEN                          8734 non-null   object        \n",
      " 37  EPS                             8734 non-null   object        \n",
      " 38  COLEGIO                         2988 non-null   object        \n",
      " 39  JORNADA_COLEGIO                 2909 non-null   object        \n",
      " 40  CALENDARIOCOLEGIO               2980 non-null   object        \n",
      " 41  CARACTERCOLEGIO                 2988 non-null   object        \n",
      " 42  ESPECIALIDADCOLEGIO             2988 non-null   object        \n",
      " 43  METODOLOGÍACOLEGIO              2988 non-null   object        \n",
      " 44  IDIOMACOLEGIO                   2988 non-null   object        \n",
      " 45  VALIDOBACHILLERATO              8734 non-null   int64         \n",
      " 46  NROPERSONASGRUPOFAMILIAR        8734 non-null   int64         \n",
      " 47  NROAPORTANTESFAMILIA            8734 non-null   int64         \n",
      " 48  INGRESOFAMILIAR                 8734 non-null   int64         \n",
      " 49  VIVIENDAPROPIA                  8734 non-null   int64         \n",
      " 50  VALORDEUDAVIVIENDA              8734 non-null   int64         \n",
      " 51  NIVELEDUCATIVOPADRE             2988 non-null   object        \n",
      " 52  NIVELEDUCATIVOMADRE             2988 non-null   object        \n",
      " 53  OCUPACIONPADRE                  2654 non-null   object        \n",
      " 54  OCUPACIONMADRE                  2781 non-null   object        \n",
      " 55  NUMEROHERMANOS                  2988 non-null   object        \n",
      " 56  NUMEROPERSONASACARGO            8734 non-null   int64         \n",
      " 57  TRABAJARAESTEPERIODO            8734 non-null   object        \n",
      " 58  TIPOTRABAJO                     5651 non-null   object        \n",
      " 59  ROANGOINGRESOS                  5651 non-null   object        \n",
      " 60  DURACIONTRABAJO                 5651 non-null   object        \n",
      " 61  ESRESIDENTE                     8734 non-null   object        \n",
      " 62  TIPOESTADIAEXTERNA              5186 non-null   object        \n",
      " 63  retirado                        8734 non-null   object        \n",
      " 64  GRADUADO                        8734 non-null   object        \n",
      "dtypes: datetime64[ns](1), float64(1), int64(23), object(40)\n",
      "memory usage: 4.3+ MB\n"
     ]
    }
   ],
   "source": [
    "base.info()"
   ]
  },
  {
   "cell_type": "code",
   "execution_count": 7,
   "id": "df8693dc",
   "metadata": {},
   "outputs": [
    {
     "data": {
      "text/plain": [
       "Text(0.5, 1.0, 'GRADUADOS EN LA CARRERA DE INGENIERIA DE SISTEMAS.')"
      ]
     },
     "execution_count": 7,
     "metadata": {},
     "output_type": "execute_result"
    },
    {
     "data": {
      "image/png": "[encoded data removed]",
      "text/plain": [
       "<Figure size 640x480 with 1 Axes>"
      ]
     },
     "metadata": {},
     "output_type": "display_data"
    }
   ],
   "source": [
    "conteo = sistemasGeneral.groupby('GRADUADO').count()\n",
    "\n",
    "plt.bar(conteo.index, conteo['DOCUMENTO'])\n",
    "\n",
    "for i, count in enumerate(conteo['DOCUMENTO']):\n",
    "  plt.text(i, count, str(count), ha='center', va='bottom')\n",
    "\n",
    "plt.title('GRADUADOS EN LA CARRERA DE INGENIERIA DE SISTEMAS.')"
   ]
  },
  {
   "cell_type": "code",
   "execution_count": null,
   "id": "fd60f11c",
   "metadata": {},
   "outputs": [],
   "source": []
  }
 ],
 "metadata": {
  "kernelspec": {
   "display_name": "Python 3 (ipykernel)",
   "language": "python",
   "name": "python3"
  },
  "language_info": {
   "codemirror_mode": {
    "name": "ipython",
    "version": 3
   },
   "file_extension": ".py",
   "mimetype": "text/x-python",
   "name": "python",
   "nbconvert_exporter": "python",
   "pygments_lexer": "ipython3",
   "version": "3.9.13"
  }
 },
 "nbformat": 4,
 "nbformat_minor": 5
}
